{
 "cells": [
  {
   "cell_type": "code",
   "execution_count": 3,
   "id": "8275c1ff",
   "metadata": {},
   "outputs": [
    {
     "name": "stderr",
     "output_type": "stream",
     "text": [
      "/Users/frenkie/anaconda3/lib/python3.11/site-packages/sklearn/utils/validation.py:1143: DataConversionWarning: A column-vector y was passed when a 1d array was expected. Please change the shape of y to (n_samples, ), for example using ravel().\n",
      "  y = column_or_1d(y, warn=True)\n",
      "/Users/frenkie/anaconda3/lib/python3.11/site-packages/sklearn/svm/_base.py:299: ConvergenceWarning: Solver terminated early (max_iter=1000).  Consider pre-processing your data with StandardScaler or MinMaxScaler.\n",
      "  warnings.warn(\n"
     ]
    },
    {
     "name": "stdout",
     "output_type": "stream",
     "text": [
      "The training accuracy is 0.34\n",
      "The test accuracy is 0.34\n"
     ]
    }
   ],
   "source": [
    "import pandas as pd\n",
    "from sklearn import svm\n",
    "\n",
    "from sklearn.model_selection import train_test_split, cross_val_score\n",
    "\n",
    "df = pd.read_csv(\"heart_disease_health_indicators.csv\")\n",
    "\n",
    "X = df.drop('HeartDiseaseorAttack', axis=1)\n",
    "y = df[['HeartDiseaseorAttack']]\n",
    "\n",
    "X_train, X_test, y_train, y_test = train_test_split(X, y, test_size=0.2, random_state=451)\n",
    "X_train\n",
    "clf = svm.SVC(kernel=\"linear\", max_iter = 1000)\n",
    "clf.fit(X_train, y_train)\n",
    "\n",
    "print(f'The training accuracy is {clf.score(X_train, y_train):.2f}')\n",
    "print(f'The test accuracy is {clf.score(X_test, y_test):.2f}')"
   ]
  },
  {
   "cell_type": "code",
   "execution_count": 4,
   "id": "7f0264ba",
   "metadata": {},
   "outputs": [
    {
     "name": "stderr",
     "output_type": "stream",
     "text": [
      "/Users/frenkie/anaconda3/lib/python3.11/site-packages/sklearn/utils/validation.py:1143: DataConversionWarning: A column-vector y was passed when a 1d array was expected. Please change the shape of y to (n_samples, ), for example using ravel().\n",
      "  y = column_or_1d(y, warn=True)\n",
      "/Users/frenkie/anaconda3/lib/python3.11/site-packages/sklearn/svm/_base.py:299: ConvergenceWarning: Solver terminated early (max_iter=1000).  Consider pre-processing your data with StandardScaler or MinMaxScaler.\n",
      "  warnings.warn(\n"
     ]
    },
    {
     "name": "stdout",
     "output_type": "stream",
     "text": [
      "The training accuracy is 0.77\n",
      "The test accuracy is 0.77\n"
     ]
    }
   ],
   "source": [
    "import pandas as pd\n",
    "from sklearn import svm\n",
    "\n",
    "from sklearn.model_selection import train_test_split, cross_val_score\n",
    "\n",
    "df = pd.read_csv(\"heart_disease_health_indicators.csv\")\n",
    "\n",
    "X = df.drop('HeartDiseaseorAttack', axis=1)\n",
    "y = df[['HeartDiseaseorAttack']]\n",
    "\n",
    "X_train, X_test, y_train, y_test = train_test_split(X, y, test_size=0.2, random_state=451)\n",
    "X_train\n",
    "clf = svm.SVC(kernel=\"linear\", C = 1000, max_iter = 1000)\n",
    "clf.fit(X_train, y_train)\n",
    "\n",
    "print(f'The training accuracy is {clf.score(X_train, y_train):.2f}')\n",
    "print(f'The test accuracy is {clf.score(X_test, y_test):.2f}')"
   ]
  },
  {
   "cell_type": "code",
   "execution_count": 5,
   "id": "cb049db2",
   "metadata": {},
   "outputs": [
    {
     "name": "stderr",
     "output_type": "stream",
     "text": [
      "/Users/frenkie/anaconda3/lib/python3.11/site-packages/sklearn/utils/validation.py:1143: DataConversionWarning: A column-vector y was passed when a 1d array was expected. Please change the shape of y to (n_samples, ), for example using ravel().\n",
      "  y = column_or_1d(y, warn=True)\n",
      "/Users/frenkie/anaconda3/lib/python3.11/site-packages/sklearn/svm/_base.py:299: ConvergenceWarning: Solver terminated early (max_iter=1000).  Consider pre-processing your data with StandardScaler or MinMaxScaler.\n",
      "  warnings.warn(\n"
     ]
    },
    {
     "name": "stdout",
     "output_type": "stream",
     "text": [
      "The training accuracy is 0.17\n",
      "The test accuracy is 0.18\n"
     ]
    }
   ],
   "source": [
    "import pandas as pd\n",
    "from sklearn import svm\n",
    "\n",
    "from sklearn.model_selection import train_test_split, cross_val_score\n",
    "\n",
    "df = pd.read_csv(\"heart_disease_health_indicators.csv\")\n",
    "\n",
    "X = df.drop('HeartDiseaseorAttack', axis=1)\n",
    "y = df[['HeartDiseaseorAttack']]\n",
    "\n",
    "X_train, X_test, y_train, y_test = train_test_split(X, y, test_size=0.2, random_state=451)\n",
    "X_train\n",
    "clf = svm.SVC(kernel='rbf', C=1, gamma='scale',max_iter = 1000)\n",
    "clf.fit(X_train, y_train)\n",
    "\n",
    "print(f'The training accuracy is {clf.score(X_train, y_train):.2f}')\n",
    "print(f'The test accuracy is {clf.score(X_test, y_test):.2f}')"
   ]
  },
  {
   "cell_type": "code",
   "execution_count": 6,
   "id": "da6a40aa",
   "metadata": {},
   "outputs": [
    {
     "name": "stderr",
     "output_type": "stream",
     "text": [
      "/Users/frenkie/anaconda3/lib/python3.11/site-packages/sklearn/utils/validation.py:1143: DataConversionWarning: A column-vector y was passed when a 1d array was expected. Please change the shape of y to (n_samples, ), for example using ravel().\n",
      "  y = column_or_1d(y, warn=True)\n",
      "/Users/frenkie/anaconda3/lib/python3.11/site-packages/sklearn/svm/_base.py:299: ConvergenceWarning: Solver terminated early (max_iter=1000).  Consider pre-processing your data with StandardScaler or MinMaxScaler.\n",
      "  warnings.warn(\n"
     ]
    },
    {
     "name": "stdout",
     "output_type": "stream",
     "text": [
      "The training accuracy is 0.28\n",
      "The test accuracy is 0.28\n"
     ]
    }
   ],
   "source": [
    "import pandas as pd\n",
    "from sklearn import svm\n",
    "\n",
    "from sklearn.model_selection import train_test_split, cross_val_score\n",
    "\n",
    "df = pd.read_csv(\"heart_disease_health_indicators.csv\")\n",
    "\n",
    "X = df.drop('HeartDiseaseorAttack', axis=1)\n",
    "y = df[['HeartDiseaseorAttack']]\n",
    "\n",
    "X_train, X_test, y_train, y_test = train_test_split(X, y, test_size=0.2, random_state=451)\n",
    "X_train\n",
    "clf = svm.SVC(kernel='rbf', C=1000, gamma='scale',max_iter = 1000)\n",
    "clf.fit(X_train, y_train)\n",
    "\n",
    "print(f'The training accuracy is {clf.score(X_train, y_train):.2f}')\n",
    "print(f'The test accuracy is {clf.score(X_test, y_test):.2f}')"
   ]
  },
  {
   "cell_type": "code",
   "execution_count": null,
   "id": "5b485bc8",
   "metadata": {},
   "outputs": [],
   "source": [
    "import pandas as pd\n",
    "from sklearn import svm\n",
    "\n",
    "from sklearn.model_selection import train_test_split, cross_val_score\n",
    "\n",
    "df = pd.read_csv(\"heart_disease_health_indicators.csv\")\n",
    "\n",
    "X = df.drop('HeartDiseaseorAttack', axis=1)\n",
    "y = df[['HeartDiseaseorAttack']]\n",
    "\n",
    "X_train, X_test, y_train, y_test = train_test_split(X, y, test_size=0.2, random_state=451)\n",
    "X_train\n",
    "clf = svm.SVC(kernel=\"linear\", C = 1000)\n",
    "clf.fit(X_train, y_train)\n",
    "\n",
    "print(f'The training accuracy is {clf.score(X_train, y_train):.2f}')\n",
    "print(f'The test accuracy is {clf.score(X_test, y_test):.2f}')"
   ]
  },
  {
   "cell_type": "code",
   "execution_count": null,
   "id": "aa5048b1",
   "metadata": {},
   "outputs": [],
   "source": [
    "import pandas as pd\n",
    "import numpy as np\n",
    "import random\n",
    "from sklearn.model_selection import train_test_split, cross_val_score\n",
    "from sklearn.preprocessing import StandardScaler\n",
    "from sklearn.decomposition import PCA\n",
    "from sklearn.svm import SVC\n",
    "from sklearn.metrics import classification_report, confusion_matrix, roc_curve, auc\n",
    "\n",
    "\n",
    "df = pd.read_csv(\"heart_disease_health_indicators.csv\")\n",
    "\n",
    "# Separating features and target\n",
    "X = df.drop('HeartDiseaseorAttack', axis=1)\n",
    "y = df['HeartDiseaseorAttack']\n",
    "\n",
    "# Feature Scaling\n",
    "scaler = StandardScaler()\n",
    "X_scaled = scaler.fit_transform(X)\n",
    "\n",
    "# PCA for dimensionality reduction (optional)\n",
    "pca = PCA(n_components=0.95)  # Adjust n_components as needed\n",
    "X_pca = pca.fit_transform(X_scaled)\n",
    "\n",
    "# Splitting the dataset into training and testing sets\n",
    "X_train, X_test, y_train, y_test = train_test_split(X_pca, y, test_size=0.2, random_state=451)\n",
    "\n",
    "# SVM Model\n",
    "svm_model = SVC(kernel='linear', random_state=random_seed)  # You can change the kernel and other hyperparameters\n",
    "svm_model.fit(X_train, y_train)\n",
    "\n",
    "# Predictions\n",
    "y_pred = svm_model.predict(X_test)\n",
    "\n",
    "# Evaluating the model\n",
    "print(\"Confusion Matrix:\\n\", confusion_matrix(y_test, y_pred))\n",
    "print(\"\\nClassification Report:\\n\", classification_report(y_test, y_pred))\n",
    "\n",
    "# ROC Curve\n",
    "fpr, tpr, thresholds = roc_curve(y_test, svm_model.decision_function(X_test))\n",
    "roc_auc = auc(fpr, tpr)\n",
    "print(\"\\nROC AUC: \", roc_auc)\n",
    "\n",
    "# Cross-validation\n",
    "cv_scores = cross_val_score(svm_model, X_pca, y, cv=5, random_state=random_seed)\n",
    "print(\"\\nCross-validation Scores: \", cv_scores)\n",
    "print(\"Mean CV Score: \", cv_scores.mean())"
   ]
  }
 ],
 "metadata": {
  "kernelspec": {
   "display_name": "Python 3 (ipykernel)",
   "language": "python",
   "name": "python3"
  },
  "language_info": {
   "codemirror_mode": {
    "name": "ipython",
    "version": 3
   },
   "file_extension": ".py",
   "mimetype": "text/x-python",
   "name": "python",
   "nbconvert_exporter": "python",
   "pygments_lexer": "ipython3",
   "version": "3.11.4"
  }
 },
 "nbformat": 4,
 "nbformat_minor": 5
}
