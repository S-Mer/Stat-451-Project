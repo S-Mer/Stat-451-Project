{
 "cells": [
  {
   "cell_type": "code",
   "execution_count": 1,
   "id": "16f52dd7",
   "metadata": {},
   "outputs": [],
   "source": [
    "import pandas as pd\n",
    "import numpy as np\n",
    "import seaborn as sns                       #visualisation\n",
    "import matplotlib.pyplot as plt \n",
    "import time\n",
    "import random\n",
    "import os\n",
    "from sklearn import linear_model\n",
    "from sklearn import metrics\n",
    "from sklearn.metrics import accuracy_score, classification_report, make_scorer\n",
    "from sklearn.metrics import (confusion_matrix, precision_score, recall_score,\n",
    "                             accuracy_score, roc_auc_score, RocCurveDisplay)\n",
    "from sklearn.model_selection import train_test_split\n",
    "from sklearn.linear_model import LogisticRegression\n",
    "from sklearn.preprocessing import PolynomialFeatures\n",
    "from sklearn.linear_model import LassoCV\n",
    "from sklearn.ensemble import RandomForestClassifier\n",
    "from sklearn.tree import DecisionTreeClassifier\n",
    "from sklearn import tree # for tree.plot_tree()\n",
    "from sklearn.tree import export_text # for export_text()\n",
    "from sklearn.model_selection import GridSearchCV\n",
    "from imblearn.over_sampling import RandomOverSampler\n",
    "from datetime import datetime\n",
    "from sklearn.ensemble import GradientBoostingClassifier\n",
    "from sklearn.decomposition import PCA"
   ]
  },
  {
   "cell_type": "code",
   "execution_count": 2,
   "id": "9fb3df9b",
   "metadata": {
    "scrolled": true
   },
   "outputs": [
    {
     "name": "stdout",
     "output_type": "stream",
     "text": [
      "<class 'pandas.core.frame.DataFrame'>\n",
      "RangeIndex: 253661 entries, 0 to 253660\n",
      "Data columns (total 22 columns):\n",
      " #   Column                Non-Null Count   Dtype\n",
      "---  ------                --------------   -----\n",
      " 0   HeartDiseaseorAttack  253661 non-null  int64\n",
      " 1   HighBP                253661 non-null  int64\n",
      " 2   HighChol              253661 non-null  int64\n",
      " 3   CholCheck             253661 non-null  int64\n",
      " 4   BMI                   253661 non-null  int64\n",
      " 5   Smoker                253661 non-null  int64\n",
      " 6   Stroke                253661 non-null  int64\n",
      " 7   Diabetes              253661 non-null  int64\n",
      " 8   PhysActivity          253661 non-null  int64\n",
      " 9   Fruits                253661 non-null  int64\n",
      " 10  Veggies               253661 non-null  int64\n",
      " 11  HvyAlcoholConsump     253661 non-null  int64\n",
      " 12  AnyHealthcare         253661 non-null  int64\n",
      " 13  NoDocbcCost           253661 non-null  int64\n",
      " 14  GenHlth               253661 non-null  int64\n",
      " 15  MentHlth              253661 non-null  int64\n",
      " 16  PhysHlth              253661 non-null  int64\n",
      " 17  DiffWalk              253661 non-null  int64\n",
      " 18  Sex                   253661 non-null  int64\n",
      " 19  Age                   253661 non-null  int64\n",
      " 20  Education             253661 non-null  int64\n",
      " 21  Income                253661 non-null  int64\n",
      "dtypes: int64(22)\n",
      "memory usage: 42.6 MB\n",
      "None\n"
     ]
    }
   ],
   "source": [
    "# Manually download dataset\n",
    "heart = pd.read_csv(\"heart_disease_health_indicators.csv\")\n",
    "    \n",
    "# Even from just a cursory info() summary, we can see that the dataset is already pre-cleaned for us for the most part.\n",
    "print(heart.info())"
   ]
  },
  {
   "cell_type": "code",
   "execution_count": 3,
   "id": "cc4ba8be",
   "metadata": {},
   "outputs": [
    {
     "name": "stdout",
     "output_type": "stream",
     "text": [
      "       HeartDiseaseorAttack         HighBP       HighChol      CholCheck  \\\n",
      "count         253661.000000  253661.000000  253661.000000  253661.000000   \n",
      "mean               0.094173       0.428990       0.424113       0.962667   \n",
      "std                0.292070       0.494933       0.494209       0.189578   \n",
      "min                0.000000       0.000000       0.000000       0.000000   \n",
      "25%                0.000000       0.000000       0.000000       1.000000   \n",
      "50%                0.000000       0.000000       0.000000       1.000000   \n",
      "75%                0.000000       1.000000       1.000000       1.000000   \n",
      "max                1.000000       1.000000       1.000000       1.000000   \n",
      "\n",
      "                 BMI         Smoker         Stroke       Diabetes  \\\n",
      "count  253661.000000  253661.000000  253661.000000  253661.000000   \n",
      "mean       28.382475       0.443186       0.040570       0.296904   \n",
      "std         6.608638       0.496763       0.197292       0.698147   \n",
      "min        12.000000       0.000000       0.000000       0.000000   \n",
      "25%        24.000000       0.000000       0.000000       0.000000   \n",
      "50%        27.000000       0.000000       0.000000       0.000000   \n",
      "75%        31.000000       1.000000       0.000000       0.000000   \n",
      "max        98.000000       1.000000       1.000000       2.000000   \n",
      "\n",
      "        PhysActivity         Fruits  ...  AnyHealthcare    NoDocbcCost  \\\n",
      "count  253661.000000  253661.000000  ...  253661.000000  253661.000000   \n",
      "mean        0.756577       0.634264  ...       0.951049       0.084164   \n",
      "std         0.429149       0.481637  ...       0.215766       0.277633   \n",
      "min         0.000000       0.000000  ...       0.000000       0.000000   \n",
      "25%         1.000000       0.000000  ...       1.000000       0.000000   \n",
      "50%         1.000000       1.000000  ...       1.000000       0.000000   \n",
      "75%         1.000000       1.000000  ...       1.000000       0.000000   \n",
      "max         1.000000       1.000000  ...       1.000000       1.000000   \n",
      "\n",
      "             GenHlth       MentHlth       PhysHlth       DiffWalk  \\\n",
      "count  253661.000000  253661.000000  253661.000000  253661.000000   \n",
      "mean        2.511379       3.184778       4.242028       0.168221   \n",
      "std         1.068472       7.412822       8.717905       0.374063   \n",
      "min         1.000000       0.000000       0.000000       0.000000   \n",
      "25%         2.000000       0.000000       0.000000       0.000000   \n",
      "50%         2.000000       0.000000       0.000000       0.000000   \n",
      "75%         3.000000       2.000000       3.000000       0.000000   \n",
      "max         5.000000      30.000000      30.000000       1.000000   \n",
      "\n",
      "                 Sex            Age      Education         Income  \n",
      "count  253661.000000  253661.000000  253661.000000  253661.000000  \n",
      "mean        0.440348       8.032197       5.050461       6.054052  \n",
      "std         0.496430       3.054203       0.985718       2.071036  \n",
      "min         0.000000       1.000000       1.000000       1.000000  \n",
      "25%         0.000000       6.000000       4.000000       5.000000  \n",
      "50%         0.000000       8.000000       5.000000       7.000000  \n",
      "75%         1.000000      10.000000       6.000000       8.000000  \n",
      "max         1.000000      13.000000       6.000000       8.000000  \n",
      "\n",
      "[8 rows x 22 columns]\n"
     ]
    }
   ],
   "source": [
    "print(heart.describe())"
   ]
  },
  {
   "cell_type": "code",
   "execution_count": 4,
   "id": "3ecebbc5",
   "metadata": {},
   "outputs": [
    {
     "name": "stdout",
     "output_type": "stream",
     "text": [
      "0    229773\n",
      "1     23888\n",
      "Name: HeartDiseaseorAttack, dtype: int64\n"
     ]
    }
   ],
   "source": [
    "print(heart['HeartDiseaseorAttack'].value_counts())"
   ]
  },
  {
   "cell_type": "code",
   "execution_count": 5,
   "id": "a90d8c52",
   "metadata": {},
   "outputs": [
    {
     "name": "stdout",
     "output_type": "stream",
     "text": [
      "0    229773\n",
      "1     23888\n",
      "Name: HeartDiseaseorAttack, dtype: int64\n",
      "______________________________\n",
      "0    144843\n",
      "1    108818\n",
      "Name: HighBP, dtype: int64\n",
      "______________________________\n",
      "0    146080\n",
      "1    107581\n",
      "Name: HighChol, dtype: int64\n",
      "______________________________\n",
      "1    244191\n",
      "0      9470\n",
      "Name: CholCheck, dtype: int64\n",
      "______________________________\n",
      "27    24604\n",
      "26    20562\n",
      "24    19550\n",
      "25    17144\n",
      "28    16543\n",
      "      ...  \n",
      "85        1\n",
      "91        1\n",
      "86        1\n",
      "90        1\n",
      "78        1\n",
      "Name: BMI, Length: 84, dtype: int64\n",
      "______________________________\n",
      "0    141242\n",
      "1    112419\n",
      "Name: Smoker, dtype: int64\n",
      "______________________________\n",
      "0    243370\n",
      "1     10291\n",
      "Name: Stroke, dtype: int64\n",
      "______________________________\n",
      "0    213690\n",
      "2     35342\n",
      "1      4629\n",
      "Name: Diabetes, dtype: int64\n",
      "______________________________\n",
      "1    191914\n",
      "0     61747\n",
      "Name: PhysActivity, dtype: int64\n",
      "______________________________\n",
      "1    160888\n",
      "0     92773\n",
      "Name: Fruits, dtype: int64\n",
      "______________________________\n",
      "1    205830\n",
      "0     47831\n",
      "Name: Veggies, dtype: int64\n",
      "______________________________\n",
      "0    239405\n",
      "1     14256\n",
      "Name: HvyAlcoholConsump, dtype: int64\n",
      "______________________________\n",
      "1    241244\n",
      "0     12417\n",
      "Name: AnyHealthcare, dtype: int64\n",
      "______________________________\n",
      "0    232312\n",
      "1     21349\n",
      "Name: NoDocbcCost, dtype: int64\n",
      "______________________________\n",
      "2    89081\n",
      "3    75638\n",
      "1    45295\n",
      "4    31567\n",
      "5    12080\n",
      "Name: GenHlth, dtype: int64\n",
      "______________________________\n",
      "0     175664\n",
      "2      13054\n",
      "30     12087\n",
      "5       9030\n",
      "1       8538\n",
      "3       7381\n",
      "10      6373\n",
      "15      5504\n",
      "4       3789\n",
      "20      3364\n",
      "7       3100\n",
      "25      1188\n",
      "14      1166\n",
      "6        988\n",
      "8        639\n",
      "12       398\n",
      "28       327\n",
      "21       227\n",
      "29       158\n",
      "18        97\n",
      "9         91\n",
      "16        88\n",
      "27        79\n",
      "22        63\n",
      "17        54\n",
      "26        45\n",
      "11        41\n",
      "13        41\n",
      "23        38\n",
      "24        33\n",
      "19        16\n",
      "Name: MentHlth, dtype: int64\n",
      "______________________________\n",
      "0     160041\n",
      "30     19398\n",
      "2      14763\n",
      "1      11388\n",
      "3       8494\n",
      "5       7620\n",
      "10      5595\n",
      "15      4915\n",
      "4       4541\n",
      "7       4538\n",
      "20      3273\n",
      "14      2587\n",
      "25      1336\n",
      "6       1330\n",
      "8        809\n",
      "21       663\n",
      "12       578\n",
      "28       522\n",
      "29       215\n",
      "9        179\n",
      "18       152\n",
      "16       112\n",
      "27        99\n",
      "17        96\n",
      "24        72\n",
      "22        70\n",
      "26        69\n",
      "13        68\n",
      "11        60\n",
      "23        56\n",
      "19        22\n",
      "Name: PhysHlth, dtype: int64\n",
      "______________________________\n",
      "0    210990\n",
      "1     42671\n",
      "Name: DiffWalk, dtype: int64\n",
      "______________________________\n",
      "0    141962\n",
      "1    111699\n",
      "Name: Sex, dtype: int64\n",
      "______________________________\n",
      "9     33243\n",
      "10    32193\n",
      "8     30831\n",
      "7     26313\n",
      "11    23531\n",
      "6     19815\n",
      "13    17362\n",
      "5     16153\n",
      "12    15979\n",
      "4     13823\n",
      "3     11121\n",
      "2      7597\n",
      "1      5700\n",
      "Name: Age, dtype: int64\n",
      "______________________________\n",
      "6    107316\n",
      "5     69907\n",
      "4     62748\n",
      "3      9476\n",
      "2      4040\n",
      "1       174\n",
      "Name: Education, dtype: int64\n",
      "______________________________\n",
      "8    90384\n",
      "7    43217\n",
      "6    36468\n",
      "5    25882\n",
      "4    20131\n",
      "3    15994\n",
      "2    11777\n",
      "1     9808\n",
      "Name: Income, dtype: int64\n",
      "______________________________\n"
     ]
    }
   ],
   "source": [
    "for col in heart.columns:\n",
    "    print(heart[col].value_counts())\n",
    "    print(\"______________________________\")"
   ]
  },
  {
   "cell_type": "code",
   "execution_count": 6,
   "id": "8758af54",
   "metadata": {},
   "outputs": [
    {
     "data": {
      "image/png": "[encoded data removed]",
      "text/plain": [
       "<Figure size 1600x1200 with 2 Axes>"
      ]
     },
     "metadata": {},
     "output_type": "display_data"
    }
   ],
   "source": [
    "plt.figure(figsize=(16,12))\n",
    "sns.heatmap(heart.corr(), annot=False, cmap='inferno')\n",
    "plt.title('Correlation Coefficients')\n",
    "plt.show()"
   ]
  },
  {
   "cell_type": "code",
   "execution_count": 7,
   "id": "e50e1138",
   "metadata": {},
   "outputs": [],
   "source": [
    "# Set X, y\n",
    "X = heart.loc[:,heart.columns != 'HeartDiseaseorAttack']\n",
    "y = heart[['HeartDiseaseorAttack']]\n",
    "\n",
    "# split 80% training data, 20% \"_tmp\" for validation & test\n",
    "X_train, X_tmp, y_train, y_tmp = train_test_split(X, y, test_size=.2, random_state=451, stratify=y)\n",
    "\n",
    "# of remaining 20%, split in half to get 10% validation, 10% test\n",
    "X_valid, X_test, y_valid, y_test = train_test_split(X_tmp, y_tmp, test_size=.5, random_state=451, stratify=y_tmp)"
   ]
  },
  {
   "cell_type": "code",
   "execution_count": 8,
   "id": "f20bdc44",
   "metadata": {},
   "outputs": [],
   "source": [
    "# Oversample the minority class in the training data (i.e. HeartDiseaseorAttack == 1)\n",
    "rs = RandomOverSampler(random_state=451, sampling_strategy = 1/3)\n",
    "X_train_resampled, y_train_resampled = rs.fit_resample(X_train, y_train)"
   ]
  },
  {
   "cell_type": "code",
   "execution_count": 9,
   "id": "70849355",
   "metadata": {},
   "outputs": [
    {
     "name": "stdout",
     "output_type": "stream",
     "text": [
      "Our original ratio of heart attack/disease incidence was:\n",
      "0.094\n",
      "\n",
      "Our new ratio, after oversampling, is \n",
      "0.2499979599330858\n"
     ]
    }
   ],
   "source": [
    "# Compare original ratio vs. oversample ratio\n",
    "print(f'Our original ratio of heart attack/disease incidence was:')\n",
    "print(round(heart['HeartDiseaseorAttack'].value_counts()[1] / (len(heart['HeartDiseaseorAttack'])),3))\n",
    "\n",
    "print('\\nOur new ratio, after oversampling, is ')\n",
    "print(y_train_resampled['HeartDiseaseorAttack'].value_counts()[1] / (len(y_train_resampled['HeartDiseaseorAttack'])))"
   ]
  },
  {
   "cell_type": "code",
   "execution_count": 10,
   "id": "e130dccd",
   "metadata": {},
   "outputs": [],
   "source": [
    "# Perform a logistic regression on the entire dataset to predict HeartDiseaseorAttack\n",
    "#clf = LogisticRegression(max_iter = 3000)\n",
    "#clf.fit(X_train, y_train.values.ravel())\n",
    "#score_orig = clf.score(X_test, y_test.values.ravel())"
   ]
  },
  {
   "cell_type": "code",
   "execution_count": 11,
   "id": "33775403",
   "metadata": {
    "scrolled": true
   },
   "outputs": [
    {
     "name": "stdout",
     "output_type": "stream",
     "text": [
      "Start Time = 11:27:59\n",
      "End Time = 11:38:17\n",
      "Best hyperparameter: {'C': 110}\n",
      "Accuracy on validation data: 0.8753843727824647\n"
     ]
    }
   ],
   "source": [
    "# Fit a logistic regression \n",
    "\n",
    "# Find best parametrization\n",
    "parameters = [{'C': np.arange(10, 400, 10)}]\n",
    "\n",
    "start_time = datetime.now().strftime(\"%H:%M:%S\")\n",
    "print(\"Start Time =\", start_time)\n",
    "\n",
    "base_model = linear_model.LogisticRegression(max_iter = 3000)\n",
    "clf = GridSearchCV(base_model, parameters, n_jobs = 5)\n",
    "clf.fit(X_train_resampled, y_train_resampled.values.ravel())\n",
    "#score_oversample = clf.score(X_valid, y_valid.values.ravel())\n",
    "\n",
    "end_time = datetime.now().strftime(\"%H:%M:%S\")\n",
    "print(\"End Time =\", end_time)\n",
    "\n",
    "#print(f'The logistic regression scores {score_orig} before oversampling, and scores {score_oversample} after oversampling.')\n",
    "\n",
    "print(f'Best hyperparameter: {clf.best_params_}')\n",
    "print(f'Accuracy on validation data: {clf.score(X_valid,y_valid)}')"
   ]
  },
  {
   "cell_type": "code",
   "execution_count": 14,
   "id": "6b8112c5",
   "metadata": {},
   "outputs": [
    {
     "name": "stdout",
     "output_type": "stream",
     "text": [
      "AUC: 0.861\n",
      "Accuracy: 0.909\n",
      "Precision: 0.564\n",
      "Recall: 0.136\n"
     ]
    }
   ],
   "source": [
    "logistic_reg = linear_model.LogisticRegression(max_iter = 3000, C = 110)\n",
    "logistic_reg.fit(X_train, y_train.values.ravel())\n",
    "\n",
    "logistic_reg_auc = roc_auc_score(y_true=y_test.values.ravel(), y_score=logistic_reg.predict_proba(X_test)[:, 1])\n",
    "logistic_reg_accuracy = accuracy_score(y_true = y_test.values.ravel(), y_pred = logistic_reg.predict(X_test))\n",
    "logistic_reg_precision = precision_score(y_true = y_test.values.ravel(), y_pred = logistic_reg.predict(X_test))\n",
    "logistic_reg_recall = recall_score(y_true = y_test.values.ravel(), y_pred = logistic_reg.predict(X_test))\n",
    "\n",
    "print(f'AUC: {logistic_reg_auc:.3}')\n",
    "print(f'Accuracy: {logistic_reg_accuracy:.3}')\n",
    "print(f'Precision: {logistic_reg_precision:.3}')\n",
    "print(f'Recall: {logistic_reg_recall:.3}')"
   ]
  },
  {
   "cell_type": "code",
   "execution_count": 16,
   "id": "4ba18e09",
   "metadata": {},
   "outputs": [
    {
     "name": "stdout",
     "output_type": "stream",
     "text": [
      "Start Time = 11:45:15\n",
      "End Time = 11:45:16\n",
      "The LASSO model set the following columns to 0:\n",
      "['PhysActivity' 'AnyHealthcare']\n",
      "\n",
      "And the following columns have nonzero coefficients:\n",
      "['HighBP' 'HighChol' 'CholCheck' 'BMI' 'Smoker' 'Stroke' 'Diabetes'\n",
      " 'Fruits' 'Veggies' 'HvyAlcoholConsump' 'NoDocbcCost' 'GenHlth' 'MentHlth'\n",
      " 'PhysHlth' 'DiffWalk' 'Sex' 'Age' 'Education' 'Income']\n"
     ]
    }
   ],
   "source": [
    "# Fit a lasso model to hopefully help with feature selection\n",
    "start_time = datetime.now().strftime(\"%H:%M:%S\")\n",
    "print(\"Start Time =\", start_time)\n",
    "\n",
    "# Perform a lasso regression to perform feature selection\n",
    "#lasso_model = linear_model.LassoCV(max_iter=2000, random_state=451)\n",
    "#lasso_model.fit(X_train, y_train.values.ravel())\n",
    "#lasso_orig = lasso_model.score(X_test, y_test.values.ravel())\n",
    "\n",
    "lasso_model = linear_model.LassoCV(max_iter=2000, random_state=451, n_jobs=-1)\n",
    "lasso_model.fit(X_train_resampled, y_train_resampled.values.ravel())\n",
    "lasso_oversample = lasso_model.score(X_test, y_test.values.ravel())\n",
    "              \n",
    "end_time = datetime.now().strftime(\"%H:%M:%S\")\n",
    "print(\"End Time =\", end_time)\n",
    "\n",
    "# print(f'The lasso regression scores {lasso_orig} before oversampling, and scores {lasso_oversample} after oversampling.')\n",
    "\n",
    "# Read out attributes\n",
    "#coeffs = lasso_model2.coef_         # dense np.array\n",
    "#coeffs = lasso_model2.sparse_coef_  # sparse matrix\n",
    "\n",
    "#coeffs = lasso_model2.intercept_    # probably also relevant\n",
    "\n",
    "# print(f'The lasso model coefficients are: \\n{lasso_model2.coef_}')\n",
    "\n",
    "print(\"\\nThe LASSO model set the following columns to 0:\")\n",
    "print(np.array(X.columns)[lasso_model.coef_==0])\n",
    "\n",
    "print(\"\\nAnd the following columns have nonzero coefficients:\")\n",
    "print(np.array(X.columns)[lasso_model.coef_!=0])"
   ]
  },
  {
   "cell_type": "code",
   "execution_count": null,
   "id": "bcf6fcbc",
   "metadata": {},
   "outputs": [],
   "source": []
  },
  {
   "cell_type": "code",
   "execution_count": null,
   "id": "3363a80b",
   "metadata": {},
   "outputs": [],
   "source": []
  },
  {
   "cell_type": "code",
   "execution_count": null,
   "id": "9fd1c18c",
   "metadata": {},
   "outputs": [],
   "source": []
  },
  {
   "cell_type": "code",
   "execution_count": null,
   "id": "a14a4647",
   "metadata": {},
   "outputs": [],
   "source": []
  },
  {
   "cell_type": "code",
   "execution_count": null,
   "id": "3e6604b8",
   "metadata": {},
   "outputs": [],
   "source": []
  },
  {
   "cell_type": "code",
   "execution_count": null,
   "id": "811c5e18",
   "metadata": {},
   "outputs": [],
   "source": []
  },
  {
   "cell_type": "code",
   "execution_count": null,
   "id": "a2ad471b",
   "metadata": {},
   "outputs": [],
   "source": []
  },
  {
   "cell_type": "code",
   "execution_count": null,
   "id": "a1ba2fc3",
   "metadata": {},
   "outputs": [],
   "source": []
  },
  {
   "cell_type": "code",
   "execution_count": null,
   "id": "8b82a6ae",
   "metadata": {},
   "outputs": [],
   "source": []
  },
  {
   "cell_type": "code",
   "execution_count": null,
   "id": "814a5abb",
   "metadata": {},
   "outputs": [],
   "source": []
  },
  {
   "cell_type": "code",
   "execution_count": null,
   "id": "38a6fa88",
   "metadata": {},
   "outputs": [],
   "source": []
  },
  {
   "cell_type": "code",
   "execution_count": null,
   "id": "5a827701",
   "metadata": {},
   "outputs": [],
   "source": [
    "#test a logistic regression limited to the above variables:\n",
    "X_train_new = X_train_resampled[['HighBP', 'HighChol', 'CholCheck', 'BMI', 'Smoker', 'Stroke', 'Diabetes', \n",
    "                                 'HvyAlcoholConsump', 'NoDocbcCost', 'GenHlth', 'MentHlth', 'PhysHlth', 'DiffWalk',\n",
    "                                 'Sex', 'Age', 'Income']]\n",
    "X_test_new = X_test[['HighBP', 'HighChol', 'CholCheck', 'BMI', 'Smoker', 'Stroke', 'Diabetes', \n",
    "                                 'HvyAlcoholConsump', 'NoDocbcCost', 'GenHlth', 'MentHlth', 'PhysHlth', 'DiffWalk',\n",
    "                                 'Sex', 'Age', 'Income']]\n",
    "\n",
    "clf3 = LogisticRegression(max_iter = 3000)\n",
    "clf3.fit(X_train_new, y_train_resampled.values.ravel())\n",
    "score_oversample = clf3.score(X_test_new, y_test.values.ravel())\n",
    "print(score_oversample)\n",
    "\n",
    "\n",
    "print('\\n\\nThe confusion matrix is as follows:')\n",
    "# Confusion matrix. 'metrics' display usage from https://www.w3schools.com/python/python_ml_confusion_matrix.asp\n",
    "clf_predict = clf3.predict(X_test_new)\n",
    "conf_matrix = confusion_matrix(y_test, clf_predict)\n",
    "conf_matrix_display = metrics.ConfusionMatrixDisplay(confusion_matrix = conf_matrix)\n",
    "conf_matrix_display.plot()\n",
    "plt.show()\n",
    "\n"
   ]
  },
  {
   "cell_type": "code",
   "execution_count": null,
   "id": "6a2a31ac",
   "metadata": {},
   "outputs": [],
   "source": []
  }
 ],
 "metadata": {
  "kernelspec": {
   "display_name": "Python 3 (ipykernel)",
   "language": "python",
   "name": "python3"
  },
  "language_info": {
   "codemirror_mode": {
    "name": "ipython",
    "version": 3
   },
   "file_extension": ".py",
   "mimetype": "text/x-python",
   "name": "python",
   "nbconvert_exporter": "python",
   "pygments_lexer": "ipython3",
   "version": "3.11.4"
  }
 },
 "nbformat": 4,
 "nbformat_minor": 5
}
